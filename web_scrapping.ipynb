{
 "cells": [
  {
   "cell_type": "markdown",
   "metadata": {},
   "source": [
    "               "
   ]
  },
  {
   "cell_type": "code",
   "execution_count": null,
   "metadata": {},
   "outputs": [],
   "source": [
    "DIVISLAB.NS, BAJAJ-AUTO.NS, TATAMOTORS.NS, TCS.NS, BAJFINANCE.NS, SBIN.NS, M&M.NS, BAJAJFINSV.NS, BHARTIARTL.NS, EICHERMOT.NS, NTPC.NS, HDFCLIFE.NS,\n",
    "LTIM-T0.NS, KOTAKBANK.NS, ADANIPORTS.NS, BPCL.NS, HINDALCO.NS, RELIANCE.NS, TATASTEEL.NS, ADANIENT.NS , HDFCBANK.NS, HEROMOTOCO.NS, HCLTECH.NS, BRITANNIA.NS, \n",
    "RDY, AXISBANK.NS, APOLLOHOSP.NS, HINDUNILVR.BO, WIPRO.NS, ASIANPAINT.NS, INFY.NS, ITC.NS, SHRIRAMFIN.NS, ULTRACEMCO.NS, CIPLA.NS,\n",
    "TECHM.NS, JSWSTEEL.NS, LT.NS, ONGC.NS, GRASIM.NS, TITAN.NS, POWERGRID.NS, MARUTI.NS, SUNPHARMA.NS, COALINDIA.NS, SBILIFE.NS"
   ]
  },
  {
   "cell_type": "code",
   "execution_count": 25,
   "metadata": {},
   "outputs": [],
   "source": [
    "stocks_list = [\n",
    "    \"DIVISLAB.NS\", \"BAJAJ-AUTO.NS\", \"TATAMOTORS.NS\", \"TCS.NS\", \"BAJFINANCE.NS\", \"SBIN.NS\",\n",
    "    \"M&M.NS\", \"BAJAJFINSV.NS\", \"BHARTIARTL.NS\", \"EICHERMOT.NS\", \"NTPC.NS\", \"HDFCLIFE.NS\",\n",
    "    \"LTIM-T0.NS\", \"KOTAKBANK.NS\", \"ADANIPORTS.NS\", \"BPCL.NS\", \"HINDALCO.NS\", \"RELIANCE.NS\",\n",
    "    \"TATASTEEL.NS\", \"ADANIENT.NS\", \"HDFCBANK.NS\", \"HEROMOTOCO.NS\", \"HCLTECH.NS\", \"BRITANNIA.NS\",\n",
    "    \"RDY\", \"AXISBANK.NS\", \"APOLLOHOSP.NS\", \"HINDUNILVR.BO\", \"WIPRO.NS\", \"ASIANPAINT.NS\", \"INFY.NS\",\n",
    "    \"ITC.NS\", \"SHRIRAMFIN.NS\", \"ULTRACEMCO.NS\", \"CIPLA.NS\", \"TECHM.NS\", \"JSWSTEEL.NS\", \"LT.NS\",\n",
    "    \"ONGC.NS\", \"GRASIM.NS\", \"TITAN.NS\", \"POWERGRID.NS\", \"MARUTI.NS\", \"SUNPHARMA.NS\", \"COALINDIA.NS\",\n",
    "    \"SBILIFE.NS\", \"NESTLEIND.NS\", \"INDUSINDBK.NS\"\n",
    "]\n"
   ]
  },
  {
   "cell_type": "code",
   "execution_count": 26,
   "metadata": {},
   "outputs": [
    {
     "data": {
      "text/plain": [
       "48"
      ]
     },
     "execution_count": 26,
     "metadata": {},
     "output_type": "execute_result"
    }
   ],
   "source": [
    "len(stocks_list )"
   ]
  },
  {
   "cell_type": "code",
   "execution_count": 2,
   "metadata": {},
   "outputs": [],
   "source": [
    "from selenium import webdriver\n",
    "from selenium.webdriver.common.by import By"
   ]
  },
  {
   "cell_type": "code",
   "execution_count": 3,
   "metadata": {},
   "outputs": [],
   "source": [
    "path = r\"D:\\web_api\\chromedriver-win64\\chromedriver.exe\"\n",
    "service = webdriver.chrome.service.Service(path)\n",
    "service.start()"
   ]
  },
  {
   "cell_type": "code",
   "execution_count": 6,
   "metadata": {},
   "outputs": [],
   "source": [
    "ticker = 'AAPL'\n",
    "url = f\"https://finance.yahoo.com/quote/{ticker}/financials?p={ticker}\"\n",
    "driver = webdriver.Chrome(service= service)\n",
    "driver.get(url)\n",
    "driver.implicitly_wait(2)"
   ]
  },
  {
   "cell_type": "markdown",
   "metadata": {},
   "source": [
    "//*[@id=\"Col1-1-Financials-Proxy\"]/section/div[3]/div[1]/div/div[2]/div[1]/div[1]/div[2]/span"
   ]
  },
  {
   "cell_type": "markdown",
   "metadata": {},
   "source": [
    "data-test"
   ]
  },
  {
   "cell_type": "code",
   "execution_count": 7,
   "metadata": {},
   "outputs": [],
   "source": [
    "table = driver.find_element(By.XPATH, \"//div[@class = 'Pos(r)']\").text"
   ]
  },
  {
   "cell_type": "code",
   "execution_count": 8,
   "metadata": {},
   "outputs": [
    {
     "data": {
      "text/plain": [
       "'Breakdown\\nTTM9/29/20239/29/20229/29/20219/29/2020\\nTotal Revenue\\n385,706,000 383,285,000 394,328,000 365,817,000 274,515,000\\nCost of Revenue\\n212,035,000 214,137,000 223,546,000 212,981,000 169,559,000\\nGross Profit\\n173,671,000 169,148,000 170,782,000 152,836,000 104,956,000\\nOperating Expense\\n55,013,000 54,847,000 51,345,000 43,887,000 38,668,000\\nOperating Income\\n118,658,000 114,301,000 119,437,000 108,949,000 66,288,000\\nNet Non Operating Interest Income Expense\\n- -183,000 -106,000 198,000 890,000\\nOther Income Expense\\n-39,000 -382,000 -228,000 60,000 -87,000\\nPretax Income\\n118,436,000 113,736,000 119,103,000 109,207,000 67,091,000\\nTax Provision\\n17,523,000 16,741,000 19,300,000 14,527,000 9,680,000\\nNet Income Common Stockholders\\n100,913,000 96,995,000 99,803,000 94,680,000 57,411,000\\nDiluted NI Available to Com Stockholders\\n100,913,000 96,995,000 99,803,000 94,680,000 57,411,000\\nBasic EPS\\n6.16 6.16 6.15 5.67 3.31\\nDiluted EPS\\n6.13 6.13 6.11 5.61 3.28\\nBasic Average Shares\\n15,744,231 15,744,231 16,215,963 16,701,272 17,352,119\\nDiluted Average Shares\\n15,812,547 15,812,547 16,325,819 16,864,919 17,528,214\\nTotal Operating Income as Reported\\n118,658,000 114,301,000 119,437,000 108,949,000 66,288,000\\nTotal Expenses\\n267,048,000 268,984,000 274,891,000 256,868,000 208,227,000\\nNet Income from Continuing & Discontinued Operation\\n100,913,000 96,995,000 99,803,000 94,680,000 57,411,000\\nNormalized Income\\n100,913,000 96,995,000 99,803,000 94,680,000 57,411,000\\nInterest Income\\n- 3,750,000 2,825,000 2,843,000 3,763,000\\nInterest Expense\\n- 3,933,000 2,931,000 2,645,000 2,873,000\\nNet Interest Income\\n- -183,000 -106,000 198,000 890,000\\nEBIT\\n122,026,000 117,669,000 122,034,000 111,852,000 69,964,000\\nEBITDA\\n133,477,000 129,188,000 133,138,000 123,136,000 81,020,000\\nReconciled Cost of Revenue\\n212,035,000 214,137,000 223,546,000 212,981,000 169,559,000\\nReconciled Depreciation\\n11,451,000 11,519,000 11,104,000 11,284,000 11,056,000\\nNet Income from Continuing Operation Net Minority Interest\\n100,913,000 96,995,000 99,803,000 94,680,000 57,411,000\\nNormalized EBITDA\\n133,477,000 129,188,000 133,138,000 123,136,000 81,020,000\\nTax Rate for Calcs\\n0 0 0 0 0\\nTax Effect of Unusual Items\\n0 0 0 0 0'"
      ]
     },
     "execution_count": 8,
     "metadata": {},
     "output_type": "execute_result"
    }
   ],
   "source": [
    "table"
   ]
  },
  {
   "cell_type": "code",
   "execution_count": 14,
   "metadata": {},
   "outputs": [],
   "source": [
    "file_path = \"output.txt\"\n",
    "\n",
    "# Open the file in write mode ('w')\n",
    "with open(file_path, 'w') as file:\n",
    "    # Write the contents of the variable to the file\n",
    "    file.write(table)"
   ]
  },
  {
   "cell_type": "code",
   "execution_count": 9,
   "metadata": {},
   "outputs": [
    {
     "name": "stdout",
     "output_type": "stream",
     "text": [
      "Breakdown\n",
      "TTM9/29/20239/29/20229/29/20219/29/2020\n",
      "Total Revenue\n",
      "385,706,000 383,285,000 394,328,000 365,817,000 274,515,000\n",
      "Cost of Revenue\n",
      "212,035,000 214,137,000 223,546,000 212,981,000 169,559,000\n",
      "Gross Profit\n",
      "173,671,000 169,148,000 170,782,000 152,836,000 104,956,000\n",
      "Operating Expense\n",
      "55,013,000 54,847,000 51,345,000 43,887,000 38,668,000\n",
      "Operating Income\n",
      "118,658,000 114,301,000 119,437,000 108,949,000 66,288,000\n",
      "Net Non Operating Interest Income Expense\n",
      "- -183,000 -106,000 198,000 890,000\n",
      "Other Income Expense\n",
      "-39,000 -382,000 -228,000 60,000 -87,000\n",
      "Pretax Income\n",
      "118,436,000 113,736,000 119,103,000 109,207,000 67,091,000\n",
      "Tax Provision\n",
      "17,523,000 16,741,000 19,300,000 14,527,000 9,680,000\n",
      "Net Income Common Stockholders\n",
      "100,913,000 96,995,000 99,803,000 94,680,000 57,411,000\n",
      "Diluted NI Available to Com Stockholders\n",
      "100,913,000 96,995,000 99,803,000 94,680,000 57,411,000\n",
      "Basic EPS\n",
      "6.16 6.16 6.15 5.67 3.31\n",
      "Diluted EPS\n",
      "6.13 6.13 6.11 5.61 3.28\n",
      "Basic Average Shares\n",
      "15,744,231 15,744,231 16,215,963 16,701,272 17,352,119\n",
      "Diluted Average Shares\n",
      "15,812,547 15,812,547 16,325,819 16,864,919 17,528,214\n",
      "Total Operating Income as Reported\n",
      "118,658,000 114,301,000 119,437,000 108,949,000 66,288,000\n",
      "Total Expenses\n",
      "267,048,000 268,984,000 274,891,000 256,868,000 208,227,000\n",
      "Net Income from Continuing & Discontinued Operation\n",
      "100,913,000 96,995,000 99,803,000 94,680,000 57,411,000\n",
      "Normalized Income\n",
      "100,913,000 96,995,000 99,803,000 94,680,000 57,411,000\n",
      "Interest Income\n",
      "- 3,750,000 2,825,000 2,843,000 3,763,000\n",
      "Interest Expense\n",
      "- 3,933,000 2,931,000 2,645,000 2,873,000\n",
      "Net Interest Income\n",
      "- -183,000 -106,000 198,000 890,000\n",
      "EBIT\n",
      "122,026,000 117,669,000 122,034,000 111,852,000 69,964,000\n",
      "EBITDA\n",
      "133,477,000 129,188,000 133,138,000 123,136,000 81,020,000\n",
      "Reconciled Cost of Revenue\n",
      "212,035,000 214,137,000 223,546,000 212,981,000 169,559,000\n",
      "Reconciled Depreciation\n",
      "11,451,000 11,519,000 11,104,000 11,284,000 11,056,000\n",
      "Net Income from Continuing Operation Net Minority Interest\n",
      "100,913,000 96,995,000 99,803,000 94,680,000 57,411,000\n",
      "Normalized EBITDA\n",
      "133,477,000 129,188,000 133,138,000 123,136,000 81,020,000\n",
      "Tax Rate for Calcs\n",
      "0 0 0 0 0\n",
      "Tax Effect of Unusual Items\n",
      "0 0 0 0 0\n"
     ]
    }
   ],
   "source": [
    "print(table)"
   ]
  },
  {
   "cell_type": "code",
   "execution_count": 16,
   "metadata": {},
   "outputs": [],
   "source": [
    "incomee_state = {}\n",
    "table_heading = driver.find_elements(By.XPATH,\"//*[contains(@class,'Ta(c) Py(6px) Bxz(bb) BdB Bdc($seperatorColor) Miw(120px) Miw(100px)--pnclg D(ib) Fw(b)')]\" )"
   ]
  },
  {
   "cell_type": "code",
   "execution_count": 17,
   "metadata": {},
   "outputs": [
    {
     "data": {
      "text/plain": [
       "[<selenium.webdriver.remote.webelement.WebElement (session=\"4ae39ba8ee6c2510c6d2638c8059b92d\", element=\"f.A1507FB0AF5638158549F52EBDA792A1.d.6223141B83F587B33EF5822970555AAD.e.556\")>,\n",
       " <selenium.webdriver.remote.webelement.WebElement (session=\"4ae39ba8ee6c2510c6d2638c8059b92d\", element=\"f.A1507FB0AF5638158549F52EBDA792A1.d.6223141B83F587B33EF5822970555AAD.e.557\")>,\n",
       " <selenium.webdriver.remote.webelement.WebElement (session=\"4ae39ba8ee6c2510c6d2638c8059b92d\", element=\"f.A1507FB0AF5638158549F52EBDA792A1.d.6223141B83F587B33EF5822970555AAD.e.5946\")>,\n",
       " <selenium.webdriver.remote.webelement.WebElement (session=\"4ae39ba8ee6c2510c6d2638c8059b92d\", element=\"f.A1507FB0AF5638158549F52EBDA792A1.d.6223141B83F587B33EF5822970555AAD.e.558\")>,\n",
       " <selenium.webdriver.remote.webelement.WebElement (session=\"4ae39ba8ee6c2510c6d2638c8059b92d\", element=\"f.A1507FB0AF5638158549F52EBDA792A1.d.6223141B83F587B33EF5822970555AAD.e.559\")>,\n",
       " <selenium.webdriver.remote.webelement.WebElement (session=\"4ae39ba8ee6c2510c6d2638c8059b92d\", element=\"f.A1507FB0AF5638158549F52EBDA792A1.d.6223141B83F587B33EF5822970555AAD.e.560\")>]"
      ]
     },
     "execution_count": 17,
     "metadata": {},
     "output_type": "execute_result"
    }
   ],
   "source": [
    "table_heading"
   ]
  },
  {
   "cell_type": "markdown",
   "metadata": {},
   "source": [
    "class=\"D(tbr) C($primaryColor)\""
   ]
  },
  {
   "cell_type": "code",
   "execution_count": 21,
   "metadata": {},
   "outputs": [
    {
     "ename": "AttributeError",
     "evalue": "'list' object has no attribute 'text'",
     "output_type": "error",
     "traceback": [
      "\u001b[1;31m---------------------------------------------------------------------------\u001b[0m",
      "\u001b[1;31mAttributeError\u001b[0m                            Traceback (most recent call last)",
      "Cell \u001b[1;32mIn[21], line 1\u001b[0m\n\u001b[1;32m----> 1\u001b[0m table_heading \u001b[38;5;241m=\u001b[39m \u001b[43mdriver\u001b[49m\u001b[38;5;241;43m.\u001b[39;49m\u001b[43mfind_elements\u001b[49m\u001b[43m(\u001b[49m\u001b[43mBy\u001b[49m\u001b[38;5;241;43m.\u001b[39;49m\u001b[43mXPATH\u001b[49m\u001b[43m,\u001b[49m\u001b[38;5;124;43m\"\u001b[39;49m\u001b[38;5;124;43m//*[contains(@class,\u001b[39;49m\u001b[38;5;124;43m'\u001b[39;49m\u001b[38;5;124;43mD(tbr) C($primaryColor)\u001b[39;49m\u001b[38;5;124;43m'\u001b[39;49m\u001b[38;5;124;43m)]\u001b[39;49m\u001b[38;5;124;43m\"\u001b[39;49m\u001b[43m \u001b[49m\u001b[43m)\u001b[49m\u001b[38;5;241;43m.\u001b[39;49m\u001b[43mtext\u001b[49m\n",
      "\u001b[1;31mAttributeError\u001b[0m: 'list' object has no attribute 'text'"
     ]
    }
   ],
   "source": [
    "table_heading = driver.find_elements(By.XPATH,\"//*[contains(@class,'D(tbr) C($primaryColor)')]\" )"
   ]
  },
  {
   "cell_type": "code",
   "execution_count": 22,
   "metadata": {},
   "outputs": [
    {
     "data": {
      "text/plain": [
       "[<selenium.webdriver.remote.webelement.WebElement (session=\"4ae39ba8ee6c2510c6d2638c8059b92d\", element=\"f.A1507FB0AF5638158549F52EBDA792A1.d.6223141B83F587B33EF5822970555AAD.e.488\")>]"
      ]
     },
     "execution_count": 22,
     "metadata": {},
     "output_type": "execute_result"
    }
   ],
   "source": [
    "table_heading"
   ]
  },
  {
   "cell_type": "code",
   "execution_count": null,
   "metadata": {},
   "outputs": [],
   "source": []
  }
 ],
 "metadata": {
  "kernelspec": {
   "display_name": "Python 3",
   "language": "python",
   "name": "python3"
  },
  "language_info": {
   "codemirror_mode": {
    "name": "ipython",
    "version": 3
   },
   "file_extension": ".py",
   "mimetype": "text/x-python",
   "name": "python",
   "nbconvert_exporter": "python",
   "pygments_lexer": "ipython3",
   "version": "3.12.2"
  }
 },
 "nbformat": 4,
 "nbformat_minor": 2
}
